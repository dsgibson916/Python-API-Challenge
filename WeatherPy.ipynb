{
 "cells": [
  {
   "cell_type": "markdown",
   "metadata": {},
   "source": [
    "# WeatherPy\n",
    "----\n",
    "\n",
    "#### Note\n",
    "* Instructions have been included for each segment. You do not have to follow them exactly, but they are included to help you think through the steps."
   ]
  },
  {
   "cell_type": "code",
   "execution_count": null,
   "metadata": {},
   "outputs": [],
   "source": []
  },
  {
   "cell_type": "code",
   "execution_count": 1,
   "metadata": {
    "scrolled": true
   },
   "outputs": [],
   "source": [
    "# Dependencies and Setup\n",
    "import matplotlib.pyplot as plt\n",
    "import pandas as pd\n",
    "import numpy as np\n",
    "import requests\n",
    "import time\n",
    "from scipy.stats import linregress\n",
    "from pprint import pprint\n",
    "# Import API key\n",
    "from api_keys import weather_api_key\n",
    "\n",
    "# Incorporated citipy to determine city based on latitude and longitude\n",
    "from citipy import citipy\n",
    "\n",
    "# Output File (CSV)\n",
    "output_data_file = \"output_data/cities.csv\"\n",
    "\n",
    "# Range of latitudes and longitudes\n",
    "lat_range = (-90, 90)\n",
    "lng_range = (-180, 180)"
   ]
  },
  {
   "cell_type": "markdown",
   "metadata": {},
   "source": [
    "## Generate Cities List"
   ]
  },
  {
   "cell_type": "code",
   "execution_count": 2,
   "metadata": {},
   "outputs": [
    {
     "data": {
      "text/plain": [
       "628"
      ]
     },
     "execution_count": 2,
     "metadata": {},
     "output_type": "execute_result"
    }
   ],
   "source": [
    "# List for holding lat_lngs and cities\n",
    "lat_lngs = []\n",
    "cities = []\n",
    "\n",
    "# Create a set of random lat and lng combinations\n",
    "lats = np.random.uniform(lat_range[0], lat_range[1], size=1500)\n",
    "lngs = np.random.uniform(lng_range[0], lng_range[1], size=1500)\n",
    "lat_lngs = zip(lats, lngs)\n",
    "\n",
    "# Identify nearest city for each lat, lng combination\n",
    "for lat_lng in lat_lngs:\n",
    "    city = citipy.nearest_city(lat_lng[0], lat_lng[1]).city_name\n",
    "    \n",
    "    # If the city is unique, then add it to a our cities list\n",
    "    if city not in cities:\n",
    "        cities.append(city)\n",
    "\n",
    "# Print the city count to confirm sufficient count\n",
    "len(cities)"
   ]
  },
  {
   "cell_type": "markdown",
   "metadata": {},
   "source": [
    "### Perform API Calls\n",
    "* Perform a weather check on each city using a series of successive API calls.\n",
    "* Include a print log of each city as it'sbeing processed (with the city number and city name).\n"
   ]
  },
  {
   "cell_type": "code",
   "execution_count": 3,
   "metadata": {},
   "outputs": [
    {
     "name": "stdout",
     "output_type": "stream",
     "text": [
      "{'base': 'stations',\n",
      " 'clouds': {'all': 96},\n",
      " 'cod': 200,\n",
      " 'coord': {'lat': 7.9986, 'lon': 124.2928},\n",
      " 'dt': 1661823859,\n",
      " 'id': 1701054,\n",
      " 'main': {'feels_like': 301.76,\n",
      "          'grnd_level': 932,\n",
      "          'humidity': 63,\n",
      "          'pressure': 1010,\n",
      "          'sea_level': 1010,\n",
      "          'temp': 300.37,\n",
      "          'temp_max': 300.37,\n",
      "          'temp_min': 300.37},\n",
      " 'name': 'Marawi',\n",
      " 'sys': {'country': 'PH', 'sunrise': 1661808916, 'sunset': 1661853146},\n",
      " 'timezone': 28800,\n",
      " 'visibility': 10000,\n",
      " 'weather': [{'description': 'overcast clouds',\n",
      "              'icon': '04d',\n",
      "              'id': 804,\n",
      "              'main': 'Clouds'}],\n",
      " 'wind': {'deg': 355, 'gust': 1.82, 'speed': 1.59}}\n"
     ]
    }
   ],
   "source": [
    "url = \"http://api.openweathermap.org/data/2.5/weather?\"\n",
    "\n",
    "\n",
    "# Build partial query URL\n",
    "query_url = url + \"appid=\" + weather_api_key + \"&q=\" + city\n",
    "response = requests.get(query_url).json()\n",
    "pprint(response)"
   ]
  },
  {
   "cell_type": "code",
   "execution_count": 4,
   "metadata": {},
   "outputs": [
    {
     "name": "stdout",
     "output_type": "stream",
     "text": [
      "successfully collected bathsheba\n",
      "successfully collected kalmunai\n",
      "successfully collected ribeira grande\n",
      "successfully collected mar del plata\n",
      "successfully collected hobart\n",
      "successfully collected mataura\n",
      "successfully collected rikitea\n",
      "successfully collected airai\n",
      "successfully collected hyeres\n",
      "successfully collected cape town\n",
      "successfully collected bredasdorp\n",
      "successfully collected pimentel\n",
      "successfully collected kaliua\n",
      "successfully collected souillac\n",
      "successfully collected kulhudhuffushi\n",
      "successfully collected katsuura\n",
      "successfully collected yongchang\n",
      "successfully collected kapaa\n",
      "falied to retrieve: abu jubayhah\n",
      "successfully collected filingue\n",
      "successfully collected rypefjord\n",
      "successfully collected tahoua\n",
      "successfully collected moose factory\n",
      "successfully collected bluff\n",
      "falied to retrieve: temaraia\n",
      "successfully collected egvekinot\n",
      "successfully collected port hueneme\n",
      "successfully collected atasu\n",
      "successfully collected yellowknife\n",
      "successfully collected arraial do cabo\n",
      "successfully collected port alfred\n",
      "successfully collected faya\n",
      "successfully collected ferry pass\n",
      "falied to retrieve: mys shmidta\n",
      "successfully collected bambous virieux\n",
      "successfully collected vaini\n",
      "successfully collected barrow\n",
      "successfully collected quatre cocos\n",
      "successfully collected mahebourg\n",
      "successfully collected busselton\n",
      "successfully collected castro\n",
      "falied to retrieve: taolanaro\n",
      "successfully collected rio branco\n",
      "successfully collected rocha\n",
      "successfully collected dubai\n",
      "successfully collected parabel\n",
      "successfully collected kodiak\n",
      "successfully collected qaanaaq\n",
      "successfully collected atuona\n",
      "successfully collected arshan\n",
      "successfully collected tasiilaq\n",
      "successfully collected ushuaia\n",
      "successfully collected punta arenas\n",
      "successfully collected hermanus\n",
      "successfully collected soledade\n",
      "successfully collected santa maria\n",
      "successfully collected ponta do sol\n",
      "successfully collected komsomolskiy\n",
      "successfully collected mount gambier\n",
      "successfully collected cidreira\n",
      "successfully collected arlit\n",
      "successfully collected port elizabeth\n",
      "successfully collected hambantota\n",
      "successfully collected kavieng\n",
      "successfully collected kerman\n",
      "successfully collected bengkulu\n",
      "successfully collected sola\n",
      "successfully collected khatanga\n",
      "successfully collected kruisfontein\n",
      "successfully collected port lincoln\n",
      "successfully collected alta\n",
      "successfully collected pidhorodne\n",
      "successfully collected anito\n",
      "successfully collected talnakh\n",
      "successfully collected kokstad\n",
      "successfully collected acapulco\n",
      "successfully collected kyra\n",
      "successfully collected provideniya\n",
      "successfully collected pangody\n",
      "successfully collected touros\n",
      "successfully collected dikson\n",
      "successfully collected te anau\n",
      "successfully collected torbay\n",
      "successfully collected najran\n",
      "successfully collected jamestown\n",
      "successfully collected tuktoyaktuk\n",
      "successfully collected okhotsk\n",
      "successfully collected sioux lookout\n",
      "successfully collected hovd\n",
      "successfully collected thanh hoa\n",
      "successfully collected caraquet\n",
      "successfully collected aklavik\n",
      "successfully collected codrington\n",
      "falied to retrieve: geresk\n",
      "successfully collected sabang\n",
      "successfully collected kavaratti\n",
      "successfully collected makakilo city\n",
      "successfully collected nizip\n",
      "successfully collected calderitas\n",
      "successfully collected lucani\n",
      "successfully collected bouna\n",
      "successfully collected annau\n",
      "successfully collected tiznit\n",
      "successfully collected akhtubinsk\n",
      "falied to retrieve: mouzakion\n",
      "falied to retrieve: amderma\n",
      "successfully collected altay\n",
      "successfully collected meulaboh\n",
      "falied to retrieve: umzimvubu\n",
      "successfully collected faanui\n",
      "successfully collected saint-philippe\n",
      "successfully collected longyearbyen\n",
      "successfully collected sangre grande\n",
      "successfully collected kintampo\n",
      "successfully collected victor harbor\n",
      "successfully collected broken hill\n",
      "successfully collected hilo\n",
      "successfully collected nouakchott\n",
      "successfully collected clyde river\n",
      "successfully collected yumen\n",
      "successfully collected albany\n",
      "falied to retrieve: tsihombe\n",
      "successfully collected idukki\n",
      "successfully collected killam\n",
      "falied to retrieve: toliary\n",
      "successfully collected inhambane\n",
      "falied to retrieve: saleaula\n",
      "falied to retrieve: labutta\n",
      "successfully collected heyang\n",
      "successfully collected geraldton\n",
      "successfully collected isangel\n",
      "successfully collected laguna\n",
      "successfully collected shitanjing\n",
      "falied to retrieve: hihifo\n",
      "successfully collected takoradi\n",
      "successfully collected thompson\n",
      "successfully collected daru\n",
      "successfully collected new norfolk\n",
      "successfully collected gigmoto\n",
      "falied to retrieve: rungata\n",
      "successfully collected sakakah\n",
      "successfully collected new glasgow\n",
      "falied to retrieve: illoqqortoormiut\n",
      "successfully collected cherskiy\n",
      "successfully collected severo-kurilsk\n",
      "successfully collected tuatapere\n",
      "successfully collected kaeo\n",
      "successfully collected dalvik\n",
      "successfully collected san quintin\n",
      "successfully collected sept-iles\n",
      "successfully collected lodwar\n",
      "successfully collected nivala\n",
      "successfully collected santa ana\n",
      "successfully collected davidson\n",
      "successfully collected waverley\n",
      "successfully collected avarua\n",
      "successfully collected harpanahalli\n",
      "successfully collected hithadhoo\n",
      "successfully collected hami\n",
      "successfully collected san jeronimo\n",
      "successfully collected karratha\n",
      "successfully collected little elm\n",
      "successfully collected san pedro\n",
      "successfully collected san nicolas\n",
      "successfully collected saint-pierre\n",
      "successfully collected whitehorse\n",
      "successfully collected butaritari\n",
      "successfully collected manisa\n",
      "successfully collected nikolskoye\n",
      "falied to retrieve: ngukurr\n",
      "successfully collected carnarvon\n",
      "successfully collected porbandar\n",
      "successfully collected aswan\n",
      "successfully collected sao filipe\n",
      "successfully collected kenora\n",
      "falied to retrieve: vaitupu\n",
      "successfully collected namibe\n",
      "falied to retrieve: sentyabrskiy\n",
      "successfully collected mpika\n",
      "successfully collected marsala\n",
      "successfully collected yuncheng\n",
      "successfully collected edd\n",
      "falied to retrieve: samusu\n",
      "falied to retrieve: attawapiskat\n",
      "successfully collected norman wells\n",
      "successfully collected zlynka\n",
      "falied to retrieve: grand river south east\n",
      "successfully collected gryazi\n",
      "successfully collected sarkand\n",
      "successfully collected borba\n",
      "successfully collected calama\n",
      "successfully collected cockburn town\n",
      "successfully collected dire\n",
      "successfully collected dombarovskiy\n",
      "successfully collected nuuk\n",
      "successfully collected lander\n",
      "successfully collected georgetown\n",
      "successfully collected nome\n",
      "successfully collected padang\n",
      "successfully collected namikupa\n",
      "successfully collected galveston\n",
      "successfully collected moba\n",
      "successfully collected silver city\n",
      "successfully collected marawi\n",
      "successfully collected muyezerskiy\n",
      "successfully collected narrabri\n",
      "falied to retrieve: ruian\n",
      "successfully collected goshen\n",
      "successfully collected shache\n",
      "successfully collected shatrovo\n",
      "successfully collected cabo san lucas\n",
      "successfully collected cabedelo\n",
      "successfully collected praia da vitoria\n",
      "successfully collected balsas\n",
      "successfully collected kumluca\n",
      "successfully collected goderich\n",
      "falied to retrieve: inderborskiy\n",
      "successfully collected skelleftea\n",
      "successfully collected erzin\n",
      "successfully collected camacha\n",
      "successfully collected beloha\n",
      "successfully collected berezovyy\n",
      "successfully collected rio lindo\n",
      "successfully collected richland\n",
      "successfully collected ostrovnoy\n",
      "successfully collected saskylakh\n",
      "successfully collected milkovo\n",
      "successfully collected osmena\n",
      "successfully collected praia\n",
      "successfully collected manokwari\n",
      "successfully collected todos santos\n",
      "successfully collected lavrentiya\n",
      "successfully collected chuy\n",
      "successfully collected traralgon\n",
      "successfully collected poieni\n",
      "successfully collected morondava\n",
      "successfully collected westport\n",
      "successfully collected ortakoy\n",
      "successfully collected sulphur\n",
      "successfully collected grindavik\n",
      "successfully collected luderitz\n",
      "successfully collected caravelas\n",
      "successfully collected beringovskiy\n",
      "successfully collected upernavik\n",
      "successfully collected san patricio\n",
      "successfully collected mackay\n",
      "successfully collected santa lucia\n",
      "successfully collected vila velha\n",
      "successfully collected moron\n",
      "successfully collected maniitsoq\n",
      "successfully collected gobabis\n",
      "successfully collected puerto ayora\n",
      "successfully collected esperance\n",
      "successfully collected bethel\n",
      "successfully collected turukhansk\n",
      "successfully collected lagunas\n"
     ]
    },
    {
     "name": "stdout",
     "output_type": "stream",
     "text": [
      "successfully collected kropotkin\n",
      "successfully collected lac du bonnet\n",
      "successfully collected barcelona\n",
      "successfully collected pevek\n",
      "falied to retrieve: mrirt\n",
      "successfully collected half moon bay\n",
      "successfully collected kichera\n",
      "successfully collected saint-augustin\n",
      "successfully collected leningradskiy\n",
      "successfully collected palizada\n",
      "successfully collected shishou\n",
      "successfully collected ilulissat\n",
      "successfully collected bardiyah\n",
      "successfully collected hasaki\n",
      "successfully collected portmore\n",
      "successfully collected ondjiva\n",
      "successfully collected springbok\n",
      "successfully collected pitkyaranta\n",
      "successfully collected namatanai\n",
      "falied to retrieve: louisbourg\n",
      "successfully collected naliya\n",
      "successfully collected kiunga\n",
      "falied to retrieve: tuggurt\n",
      "successfully collected itacoatiara\n",
      "successfully collected christchurch\n",
      "successfully collected itarema\n",
      "successfully collected buala\n",
      "successfully collected sechura\n",
      "successfully collected nanortalik\n",
      "successfully collected ponta delgada\n",
      "successfully collected yulara\n",
      "successfully collected port hedland\n",
      "falied to retrieve: belushya guba\n",
      "successfully collected ixtapa\n",
      "successfully collected codajas\n",
      "successfully collected sohbatpur\n",
      "successfully collected bay roberts\n",
      "successfully collected tuy hoa\n",
      "successfully collected ugoofaaru\n",
      "successfully collected matara\n",
      "successfully collected saryg-sep\n",
      "successfully collected palmer\n",
      "successfully collected alofi\n",
      "successfully collected kysyl-syr\n",
      "successfully collected avera\n",
      "successfully collected amaga\n",
      "successfully collected songjianghe\n",
      "successfully collected vila franca do campo\n",
      "successfully collected khash\n",
      "successfully collected tazovskiy\n",
      "successfully collected rundu\n",
      "successfully collected berlevag\n",
      "successfully collected port moresby\n",
      "successfully collected fort myers beach\n",
      "successfully collected lafiagi\n",
      "successfully collected mana\n",
      "successfully collected kot addu\n",
      "successfully collected banepa\n",
      "successfully collected lebu\n",
      "successfully collected fairbanks\n",
      "falied to retrieve: khonuu\n",
      "successfully collected nago\n",
      "successfully collected waipawa\n",
      "successfully collected guasdualito\n",
      "successfully collected guerrero negro\n",
      "successfully collected eirunepe\n",
      "successfully collected micheweni\n",
      "successfully collected mantua\n",
      "successfully collected olafsvik\n",
      "successfully collected emerald\n",
      "successfully collected umm lajj\n",
      "successfully collected sarakhs\n",
      "successfully collected port augusta\n",
      "successfully collected shimoda\n",
      "successfully collected tepalcatepec\n",
      "successfully collected amalapuram\n",
      "successfully collected krivosheino\n",
      "successfully collected russell\n",
      "successfully collected rawson\n",
      "successfully collected gerash\n",
      "successfully collected vardo\n",
      "successfully collected tual\n",
      "successfully collected qaqortoq\n",
      "successfully collected mananara\n",
      "successfully collected eureka\n",
      "successfully collected high prairie\n",
      "successfully collected mandurah\n",
      "successfully collected aginskoye\n",
      "successfully collected bonito\n",
      "successfully collected victoria\n",
      "successfully collected chokurdakh\n",
      "successfully collected aquiraz\n",
      "successfully collected mineiros\n",
      "successfully collected kem\n",
      "successfully collected nemuro\n",
      "successfully collected asau\n",
      "successfully collected bilibino\n",
      "successfully collected rio grande\n",
      "successfully collected oistins\n",
      "successfully collected mogadishu\n",
      "successfully collected pacifica\n",
      "successfully collected bama\n",
      "successfully collected puerto escondido\n",
      "successfully collected lorengau\n",
      "successfully collected north bend\n",
      "successfully collected benghazi\n",
      "successfully collected itarantim\n",
      "successfully collected nkhata bay\n",
      "successfully collected kitimat\n",
      "successfully collected lompoc\n",
      "successfully collected flinders\n",
      "falied to retrieve: barentsburg\n",
      "successfully collected cortez\n",
      "successfully collected paralimni\n",
      "successfully collected lukovit\n",
      "successfully collected iqaluit\n",
      "successfully collected mirnyy\n",
      "successfully collected nantucket\n",
      "successfully collected dingle\n",
      "successfully collected college\n",
      "successfully collected tecoanapa\n",
      "successfully collected coquimbo\n",
      "successfully collected lekoni\n",
      "successfully collected primo tapia\n",
      "successfully collected tiksi\n",
      "successfully collected chardara\n",
      "successfully collected balkanabat\n",
      "successfully collected altinho\n",
      "successfully collected antsla\n",
      "successfully collected portree\n",
      "successfully collected kondinskoye\n",
      "successfully collected staryy nadym\n",
      "successfully collected adrar\n",
      "successfully collected bochnia\n",
      "falied to retrieve: mahadday weyne\n",
      "successfully collected lagoa\n",
      "successfully collected kaitangata\n",
      "successfully collected ararat\n",
      "successfully collected comodoro rivadavia\n",
      "successfully collected havelock\n",
      "successfully collected sao miguel do araguaia\n",
      "successfully collected saldanha\n",
      "successfully collected nishihara\n",
      "successfully collected cancun\n",
      "successfully collected santa helena de goias\n",
      "successfully collected necochea\n",
      "successfully collected pisco\n",
      "successfully collected jiexiu\n",
      "successfully collected plettenberg bay\n",
      "successfully collected san cristobal\n",
      "successfully collected gat\n",
      "successfully collected amapa\n",
      "successfully collected ancud\n",
      "successfully collected andros town\n",
      "successfully collected baft\n",
      "falied to retrieve: nizhneyansk\n",
      "successfully collected fukue\n",
      "successfully collected salas\n",
      "successfully collected somerset east\n",
      "successfully collected artyom\n",
      "successfully collected saint-leu\n",
      "successfully collected polyarnyy\n",
      "successfully collected chabahar\n",
      "successfully collected mandya\n",
      "successfully collected limon\n",
      "successfully collected honiara\n",
      "successfully collected east london\n",
      "successfully collected araouane\n",
      "successfully collected bozeman\n",
      "successfully collected severomuysk\n",
      "successfully collected santa maria da vitoria\n",
      "successfully collected cuicatlan\n",
      "successfully collected vanimo\n",
      "successfully collected liberal\n",
      "successfully collected gloucester\n",
      "successfully collected nakamura\n",
      "successfully collected altinopolis\n",
      "falied to retrieve: afmadu\n",
      "successfully collected flin flon\n",
      "successfully collected naze\n",
      "successfully collected price\n",
      "successfully collected vostok\n",
      "successfully collected harper\n",
      "falied to retrieve: sofiysk\n",
      "successfully collected colares\n",
      "successfully collected san carlos\n",
      "successfully collected aden\n",
      "successfully collected cayenne\n",
      "successfully collected alice springs\n",
      "successfully collected raudeberg\n",
      "falied to retrieve: sahrak\n",
      "successfully collected kato glikovrisi\n",
      "successfully collected lata\n",
      "successfully collected khani\n",
      "successfully collected bandarbeyla\n",
      "successfully collected paamiut\n",
      "successfully collected pinawa\n",
      "successfully collected biltine\n",
      "successfully collected braganca\n",
      "successfully collected talara\n",
      "successfully collected laguna de perlas\n",
      "successfully collected salalah\n",
      "successfully collected teya\n",
      "successfully collected tongren\n",
      "successfully collected tucuman\n",
      "successfully collected bonavista\n",
      "successfully collected sao sebastiao\n",
      "successfully collected rabo de peixe\n",
      "successfully collected sao felix do xingu\n",
      "successfully collected solnechnyy\n",
      "successfully collected tvedestrand\n",
      "falied to retrieve: nguiu\n",
      "successfully collected mangai\n",
      "successfully collected west wendover\n",
      "successfully collected tomatlan\n",
      "successfully collected canutama\n",
      "successfully collected atar\n",
      "successfully collected mogadouro\n",
      "successfully collected omboue\n",
      "successfully collected sembe\n",
      "successfully collected xiongyue\n",
      "successfully collected sitka\n",
      "successfully collected jever\n",
      "successfully collected bom jesus\n",
      "successfully collected dargaville\n",
      "successfully collected ust-ilimsk\n",
      "successfully collected inirida\n",
      "successfully collected derby\n",
      "successfully collected thinadhoo\n",
      "successfully collected igrim\n",
      "successfully collected togur\n",
      "successfully collected prince rupert\n",
      "successfully collected toktogul\n",
      "successfully collected maralal\n",
      "successfully collected vikhorevka\n",
      "successfully collected finote selam\n",
      "successfully collected pareora\n",
      "successfully collected erenhot\n",
      "successfully collected chipinge\n",
      "successfully collected marsa matruh\n",
      "falied to retrieve: yuzhno-yeniseyskiy\n",
      "falied to retrieve: sinkat\n",
      "successfully collected brejo santo\n",
      "successfully collected charters towers\n",
      "successfully collected tarko-sale\n",
      "successfully collected wanning\n",
      "successfully collected chaumont\n",
      "successfully collected winneba\n",
      "successfully collected klaksvik\n",
      "successfully collected winnemucca\n",
      "successfully collected humberto de campos\n",
      "successfully collected nakanojo\n",
      "successfully collected bratsk\n",
      "successfully collected kailua\n"
     ]
    },
    {
     "name": "stdout",
     "output_type": "stream",
     "text": [
      "successfully collected jiayuguan\n",
      "successfully collected snezhnogorsk\n",
      "successfully collected quelimane\n",
      "successfully collected oskaloosa\n",
      "successfully collected guskhara\n",
      "successfully collected lasa\n",
      "successfully collected emba\n",
      "successfully collected cairns\n",
      "successfully collected adeje\n",
      "successfully collected bondo\n",
      "successfully collected dumas\n",
      "successfully collected mudigere\n",
      "successfully collected kurilsk\n",
      "successfully collected jeremie\n",
      "successfully collected urumqi\n",
      "successfully collected garowe\n",
      "successfully collected phalombe\n",
      "successfully collected terney\n",
      "successfully collected tarquinia\n",
      "successfully collected oranjestad\n",
      "successfully collected ust-kuyga\n",
      "falied to retrieve: tumannyy\n",
      "successfully collected seymchan\n",
      "falied to retrieve: marcona\n",
      "successfully collected westerland\n",
      "successfully collected puerto suarez\n",
      "falied to retrieve: sorvag\n",
      "successfully collected porto santo\n",
      "successfully collected amahai\n",
      "successfully collected apricena\n",
      "successfully collected yashan\n",
      "successfully collected gizo\n",
      "successfully collected hualmay\n",
      "successfully collected dongsheng\n",
      "successfully collected port keats\n",
      "successfully collected tukrah\n",
      "successfully collected codo\n",
      "successfully collected dubbo\n",
      "successfully collected mayor pablo lagerenza\n",
      "successfully collected camapua\n",
      "successfully collected menongue\n",
      "successfully collected santa fe\n",
      "successfully collected kemijarvi\n",
      "successfully collected waddan\n",
      "successfully collected alugan\n",
      "successfully collected zyryanovsk\n",
      "successfully collected syracuse\n",
      "successfully collected clinton\n",
      "successfully collected zhicheng\n",
      "successfully collected new cumnock\n",
      "successfully collected alpena\n",
      "successfully collected san policarpo\n",
      "falied to retrieve: xghajra\n",
      "successfully collected northam\n",
      "successfully collected balabac\n",
      "successfully collected ushtobe\n",
      "successfully collected zyryanka\n",
      "successfully collected iranshahr\n",
      "falied to retrieve: chikoy\n",
      "successfully collected durusu\n",
      "successfully collected kargasok\n",
      "successfully collected havoysund\n",
      "successfully collected koungou\n",
      "successfully collected auki\n",
      "successfully collected coihaique\n",
      "successfully collected ca mau\n",
      "successfully collected maragogi\n",
      "successfully collected richards bay\n",
      "successfully collected zalari\n",
      "successfully collected poplar bluff\n",
      "successfully collected road town\n",
      "successfully collected kadoma\n",
      "successfully collected okha\n",
      "successfully collected suntar\n",
      "successfully collected homer\n",
      "successfully collected port hardy\n",
      "successfully collected ertil\n",
      "successfully collected estevan\n",
      "successfully collected devils lake\n",
      "successfully collected kathu\n",
      "successfully collected nador\n",
      "successfully collected chanute\n",
      "successfully collected guymon\n",
      "successfully collected matagami\n",
      "successfully collected qui nhon\n",
      "successfully collected riyadh\n",
      "successfully collected carire\n",
      "successfully collected natal\n",
      "successfully collected kirakira\n",
      "successfully collected union\n",
      "successfully collected kharp\n",
      "successfully collected sharanga\n",
      "falied to retrieve: rolim de moura\n",
      "successfully collected kolchugino\n",
      "falied to retrieve: stoyba\n",
      "successfully collected santa isabel do rio negro\n",
      "successfully collected kutum\n",
      "successfully collected portland\n",
      "successfully collected gao\n",
      "falied to retrieve: kadykchan\n",
      "successfully collected taitung\n",
      "successfully collected san cosme y damian\n",
      "successfully collected malangali\n",
      "successfully collected pangai\n",
      "successfully collected fuerte olimpo\n",
      "successfully collected uglovskoye\n",
      "successfully collected carlsbad\n",
      "successfully collected pemba\n",
      "successfully collected birjand\n",
      "successfully collected agirish\n",
      "successfully collected mount isa\n",
      "successfully collected sovetskiy\n",
      "successfully collected araure\n",
      "successfully collected chapais\n",
      "successfully collected muros\n",
      "successfully collected shu\n",
      "successfully collected pindi gheb\n",
      "successfully collected port blair\n"
     ]
    }
   ],
   "source": [
    "lat = []\n",
    "lng = []\n",
    "cloud = []\n",
    "date = []\n",
    "humidity = []\n",
    "max_temp = []\n",
    "min_temp = []\n",
    "wind_speed = []\n",
    "name = []\n",
    "country = []\n",
    "query_url = url + \"appid=\" + weather_api_key + \"&q=\" + city\n",
    "count= 0\n",
    "for city in cities:\n",
    "    try:\n",
    "        query_url = url + \"appid=\" + weather_api_key + \"&q=\" + city\n",
    "        response = requests.get(query_url).json()\n",
    "        lat.append(response[\"coord\"][\"lat\"])\n",
    "        lng.append(response[\"coord\"][\"lon\"])\n",
    "        cloud.append(response[\"clouds\"][\"all\"])\n",
    "        date.append(response[\"dt\"])\n",
    "        humidity.append(response[\"main\"][\"humidity\"])\n",
    "        max_temp.append(response[\"main\"][\"temp_max\"])\n",
    "        min_temp.append(response[\"main\"][\"temp_min\"])\n",
    "        name.append(response[\"name\"])\n",
    "        wind_speed.append(response[\"wind\"][\"speed\"])\n",
    "        country.append(response[\"sys\"][\"country\"])\n",
    "        print(f\"successfully collected {city}\")\n",
    "    except:\n",
    "        print(f\"falied to retrieve: {city}\")\n",
    "        pass"
   ]
  },
  {
   "cell_type": "code",
   "execution_count": 29,
   "metadata": {
    "scrolled": true
   },
   "outputs": [
    {
     "name": "stdout",
     "output_type": "stream",
     "text": [
      "http://api.openweathermap.org/data/2.5/weather?appid=76636c575a0a971e31a0122000f89ff3&q=kaitangata\n"
     ]
    }
   ],
   "source": [
    "print(query_url)"
   ]
  },
  {
   "cell_type": "markdown",
   "metadata": {},
   "source": [
    "### Convert Raw Data to DataFrame\n",
    "* Export the city data into a .csv.\n",
    "* Display the DataFrame"
   ]
  },
  {
   "cell_type": "code",
   "execution_count": 29,
   "metadata": {},
   "outputs": [
    {
     "data": {
      "text/html": [
       "<div>\n",
       "<style scoped>\n",
       "    .dataframe tbody tr th:only-of-type {\n",
       "        vertical-align: middle;\n",
       "    }\n",
       "\n",
       "    .dataframe tbody tr th {\n",
       "        vertical-align: top;\n",
       "    }\n",
       "\n",
       "    .dataframe thead th {\n",
       "        text-align: right;\n",
       "    }\n",
       "</style>\n",
       "<table border=\"1\" class=\"dataframe\">\n",
       "  <thead>\n",
       "    <tr style=\"text-align: right;\">\n",
       "      <th></th>\n",
       "      <th>City</th>\n",
       "      <th>Lat</th>\n",
       "      <th>Lng</th>\n",
       "      <th>Max Temp</th>\n",
       "      <th>Humidity</th>\n",
       "      <th>Cloudiness</th>\n",
       "      <th>Wind Speed</th>\n",
       "      <th>Country</th>\n",
       "      <th>Date</th>\n",
       "    </tr>\n",
       "  </thead>\n",
       "  <tbody>\n",
       "    <tr>\n",
       "      <th>0</th>\n",
       "      <td>Bathsheba</td>\n",
       "      <td>13.2167</td>\n",
       "      <td>-59.5167</td>\n",
       "      <td>301.49</td>\n",
       "      <td>83</td>\n",
       "      <td>75</td>\n",
       "      <td>6.69</td>\n",
       "      <td>BB</td>\n",
       "      <td>1661823863</td>\n",
       "    </tr>\n",
       "    <tr>\n",
       "      <th>1</th>\n",
       "      <td>Kalmunai</td>\n",
       "      <td>7.4167</td>\n",
       "      <td>81.8167</td>\n",
       "      <td>300.81</td>\n",
       "      <td>73</td>\n",
       "      <td>99</td>\n",
       "      <td>1.75</td>\n",
       "      <td>LK</td>\n",
       "      <td>1661823863</td>\n",
       "    </tr>\n",
       "    <tr>\n",
       "      <th>2</th>\n",
       "      <td>Ribeira Grande</td>\n",
       "      <td>38.5167</td>\n",
       "      <td>-28.7000</td>\n",
       "      <td>296.80</td>\n",
       "      <td>88</td>\n",
       "      <td>12</td>\n",
       "      <td>0.74</td>\n",
       "      <td>PT</td>\n",
       "      <td>1661823863</td>\n",
       "    </tr>\n",
       "    <tr>\n",
       "      <th>3</th>\n",
       "      <td>Mar del Plata</td>\n",
       "      <td>-38.0023</td>\n",
       "      <td>-57.5575</td>\n",
       "      <td>283.08</td>\n",
       "      <td>69</td>\n",
       "      <td>0</td>\n",
       "      <td>6.26</td>\n",
       "      <td>AR</td>\n",
       "      <td>1661823613</td>\n",
       "    </tr>\n",
       "    <tr>\n",
       "      <th>4</th>\n",
       "      <td>Hobart</td>\n",
       "      <td>-42.8794</td>\n",
       "      <td>147.3294</td>\n",
       "      <td>286.07</td>\n",
       "      <td>95</td>\n",
       "      <td>75</td>\n",
       "      <td>4.63</td>\n",
       "      <td>AU</td>\n",
       "      <td>1661823679</td>\n",
       "    </tr>\n",
       "    <tr>\n",
       "      <th>...</th>\n",
       "      <td>...</td>\n",
       "      <td>...</td>\n",
       "      <td>...</td>\n",
       "      <td>...</td>\n",
       "      <td>...</td>\n",
       "      <td>...</td>\n",
       "      <td>...</td>\n",
       "      <td>...</td>\n",
       "      <td>...</td>\n",
       "    </tr>\n",
       "    <tr>\n",
       "      <th>578</th>\n",
       "      <td>Chapais</td>\n",
       "      <td>49.7834</td>\n",
       "      <td>-74.8492</td>\n",
       "      <td>292.03</td>\n",
       "      <td>99</td>\n",
       "      <td>97</td>\n",
       "      <td>1.43</td>\n",
       "      <td>CA</td>\n",
       "      <td>1661824060</td>\n",
       "    </tr>\n",
       "    <tr>\n",
       "      <th>579</th>\n",
       "      <td>Muros</td>\n",
       "      <td>42.7762</td>\n",
       "      <td>-9.0603</td>\n",
       "      <td>290.84</td>\n",
       "      <td>90</td>\n",
       "      <td>64</td>\n",
       "      <td>2.48</td>\n",
       "      <td>ES</td>\n",
       "      <td>1661824061</td>\n",
       "    </tr>\n",
       "    <tr>\n",
       "      <th>580</th>\n",
       "      <td>Chu</td>\n",
       "      <td>43.5983</td>\n",
       "      <td>73.7614</td>\n",
       "      <td>293.15</td>\n",
       "      <td>29</td>\n",
       "      <td>0</td>\n",
       "      <td>1.87</td>\n",
       "      <td>KZ</td>\n",
       "      <td>1661824061</td>\n",
       "    </tr>\n",
       "    <tr>\n",
       "      <th>581</th>\n",
       "      <td>Pindi Gheb</td>\n",
       "      <td>33.2402</td>\n",
       "      <td>72.2661</td>\n",
       "      <td>301.93</td>\n",
       "      <td>67</td>\n",
       "      <td>0</td>\n",
       "      <td>3.46</td>\n",
       "      <td>PK</td>\n",
       "      <td>1661824061</td>\n",
       "    </tr>\n",
       "    <tr>\n",
       "      <th>582</th>\n",
       "      <td>Port Blair</td>\n",
       "      <td>11.6667</td>\n",
       "      <td>92.7500</td>\n",
       "      <td>303.17</td>\n",
       "      <td>74</td>\n",
       "      <td>75</td>\n",
       "      <td>1.03</td>\n",
       "      <td>IN</td>\n",
       "      <td>1661823893</td>\n",
       "    </tr>\n",
       "  </tbody>\n",
       "</table>\n",
       "<p>583 rows × 9 columns</p>\n",
       "</div>"
      ],
      "text/plain": [
       "               City      Lat       Lng  Max Temp  Humidity  Cloudiness  \\\n",
       "0         Bathsheba  13.2167  -59.5167    301.49        83          75   \n",
       "1          Kalmunai   7.4167   81.8167    300.81        73          99   \n",
       "2    Ribeira Grande  38.5167  -28.7000    296.80        88          12   \n",
       "3     Mar del Plata -38.0023  -57.5575    283.08        69           0   \n",
       "4            Hobart -42.8794  147.3294    286.07        95          75   \n",
       "..              ...      ...       ...       ...       ...         ...   \n",
       "578         Chapais  49.7834  -74.8492    292.03        99          97   \n",
       "579           Muros  42.7762   -9.0603    290.84        90          64   \n",
       "580             Chu  43.5983   73.7614    293.15        29           0   \n",
       "581      Pindi Gheb  33.2402   72.2661    301.93        67           0   \n",
       "582      Port Blair  11.6667   92.7500    303.17        74          75   \n",
       "\n",
       "     Wind Speed Country        Date  \n",
       "0          6.69      BB  1661823863  \n",
       "1          1.75      LK  1661823863  \n",
       "2          0.74      PT  1661823863  \n",
       "3          6.26      AR  1661823613  \n",
       "4          4.63      AU  1661823679  \n",
       "..          ...     ...         ...  \n",
       "578        1.43      CA  1661824060  \n",
       "579        2.48      ES  1661824061  \n",
       "580        1.87      KZ  1661824061  \n",
       "581        3.46      PK  1661824061  \n",
       "582        1.03      IN  1661823893  \n",
       "\n",
       "[583 rows x 9 columns]"
      ]
     },
     "execution_count": 29,
     "metadata": {},
     "output_type": "execute_result"
    }
   ],
   "source": [
    "weather_df = pd.DataFrame({\"City\" : name, \n",
    "             \"Lat\": lat,\n",
    "             \"Lng\": lng,\n",
    "             \"Max Temp\": max_temp,\n",
    "             \"Humidity\": humidity, \n",
    "             \"Cloudiness\":cloud,\n",
    "             \"Wind Speed\" :wind_speed,\n",
    "             \"Country\": country,\n",
    "             \"Date\": date})\n",
    "weather_df"
   ]
  },
  {
   "cell_type": "code",
   "execution_count": null,
   "metadata": {},
   "outputs": [],
   "source": []
  },
  {
   "cell_type": "markdown",
   "metadata": {},
   "source": [
    "## Inspect the data and remove the cities where the humidity > 100%.\n",
    "----\n",
    "Skip this step if there are no cities that have humidity > 100%. "
   ]
  },
  {
   "cell_type": "code",
   "execution_count": 30,
   "metadata": {},
   "outputs": [
    {
     "data": {
      "text/html": [
       "<div>\n",
       "<style scoped>\n",
       "    .dataframe tbody tr th:only-of-type {\n",
       "        vertical-align: middle;\n",
       "    }\n",
       "\n",
       "    .dataframe tbody tr th {\n",
       "        vertical-align: top;\n",
       "    }\n",
       "\n",
       "    .dataframe thead th {\n",
       "        text-align: right;\n",
       "    }\n",
       "</style>\n",
       "<table border=\"1\" class=\"dataframe\">\n",
       "  <thead>\n",
       "    <tr style=\"text-align: right;\">\n",
       "      <th></th>\n",
       "      <th>City</th>\n",
       "      <th>Lat</th>\n",
       "      <th>Lng</th>\n",
       "      <th>Max Temp</th>\n",
       "      <th>Humidity</th>\n",
       "      <th>Cloudiness</th>\n",
       "      <th>Wind Speed</th>\n",
       "      <th>Country</th>\n",
       "      <th>Date</th>\n",
       "    </tr>\n",
       "  </thead>\n",
       "  <tbody>\n",
       "  </tbody>\n",
       "</table>\n",
       "</div>"
      ],
      "text/plain": [
       "Empty DataFrame\n",
       "Columns: [City, Lat, Lng, Max Temp, Humidity, Cloudiness, Wind Speed, Country, Date]\n",
       "Index: []"
      ]
     },
     "execution_count": 30,
     "metadata": {},
     "output_type": "execute_result"
    }
   ],
   "source": [
    "#  Get the indices of cities that have humidity over 100%.\n",
    "humidity_df = weather_df.loc[weather_df[\"Humidity\"]>100]\n",
    "\n",
    "humidity_df\n",
    "\n",
    "#no cities with the humdidity gereater than 100"
   ]
  },
  {
   "cell_type": "code",
   "execution_count": 31,
   "metadata": {},
   "outputs": [
    {
     "data": {
      "text/html": [
       "<div>\n",
       "<style scoped>\n",
       "    .dataframe tbody tr th:only-of-type {\n",
       "        vertical-align: middle;\n",
       "    }\n",
       "\n",
       "    .dataframe tbody tr th {\n",
       "        vertical-align: top;\n",
       "    }\n",
       "\n",
       "    .dataframe thead th {\n",
       "        text-align: right;\n",
       "    }\n",
       "</style>\n",
       "<table border=\"1\" class=\"dataframe\">\n",
       "  <thead>\n",
       "    <tr style=\"text-align: right;\">\n",
       "      <th></th>\n",
       "      <th>City</th>\n",
       "      <th>Lat</th>\n",
       "      <th>Lng</th>\n",
       "      <th>Max Temp</th>\n",
       "      <th>Humidity</th>\n",
       "      <th>Cloudiness</th>\n",
       "      <th>Wind Speed</th>\n",
       "      <th>Country</th>\n",
       "      <th>Date</th>\n",
       "    </tr>\n",
       "  </thead>\n",
       "  <tbody>\n",
       "    <tr>\n",
       "      <th>0</th>\n",
       "      <td>Bathsheba</td>\n",
       "      <td>13.2167</td>\n",
       "      <td>-59.5167</td>\n",
       "      <td>301.49</td>\n",
       "      <td>83</td>\n",
       "      <td>75</td>\n",
       "      <td>6.69</td>\n",
       "      <td>BB</td>\n",
       "      <td>1661823863</td>\n",
       "    </tr>\n",
       "    <tr>\n",
       "      <th>1</th>\n",
       "      <td>Kalmunai</td>\n",
       "      <td>7.4167</td>\n",
       "      <td>81.8167</td>\n",
       "      <td>300.81</td>\n",
       "      <td>73</td>\n",
       "      <td>99</td>\n",
       "      <td>1.75</td>\n",
       "      <td>LK</td>\n",
       "      <td>1661823863</td>\n",
       "    </tr>\n",
       "    <tr>\n",
       "      <th>2</th>\n",
       "      <td>Ribeira Grande</td>\n",
       "      <td>38.5167</td>\n",
       "      <td>-28.7000</td>\n",
       "      <td>296.80</td>\n",
       "      <td>88</td>\n",
       "      <td>12</td>\n",
       "      <td>0.74</td>\n",
       "      <td>PT</td>\n",
       "      <td>1661823863</td>\n",
       "    </tr>\n",
       "    <tr>\n",
       "      <th>3</th>\n",
       "      <td>Mar del Plata</td>\n",
       "      <td>-38.0023</td>\n",
       "      <td>-57.5575</td>\n",
       "      <td>283.08</td>\n",
       "      <td>69</td>\n",
       "      <td>0</td>\n",
       "      <td>6.26</td>\n",
       "      <td>AR</td>\n",
       "      <td>1661823613</td>\n",
       "    </tr>\n",
       "    <tr>\n",
       "      <th>4</th>\n",
       "      <td>Hobart</td>\n",
       "      <td>-42.8794</td>\n",
       "      <td>147.3294</td>\n",
       "      <td>286.07</td>\n",
       "      <td>95</td>\n",
       "      <td>75</td>\n",
       "      <td>4.63</td>\n",
       "      <td>AU</td>\n",
       "      <td>1661823679</td>\n",
       "    </tr>\n",
       "    <tr>\n",
       "      <th>...</th>\n",
       "      <td>...</td>\n",
       "      <td>...</td>\n",
       "      <td>...</td>\n",
       "      <td>...</td>\n",
       "      <td>...</td>\n",
       "      <td>...</td>\n",
       "      <td>...</td>\n",
       "      <td>...</td>\n",
       "      <td>...</td>\n",
       "    </tr>\n",
       "    <tr>\n",
       "      <th>578</th>\n",
       "      <td>Chapais</td>\n",
       "      <td>49.7834</td>\n",
       "      <td>-74.8492</td>\n",
       "      <td>292.03</td>\n",
       "      <td>99</td>\n",
       "      <td>97</td>\n",
       "      <td>1.43</td>\n",
       "      <td>CA</td>\n",
       "      <td>1661824060</td>\n",
       "    </tr>\n",
       "    <tr>\n",
       "      <th>579</th>\n",
       "      <td>Muros</td>\n",
       "      <td>42.7762</td>\n",
       "      <td>-9.0603</td>\n",
       "      <td>290.84</td>\n",
       "      <td>90</td>\n",
       "      <td>64</td>\n",
       "      <td>2.48</td>\n",
       "      <td>ES</td>\n",
       "      <td>1661824061</td>\n",
       "    </tr>\n",
       "    <tr>\n",
       "      <th>580</th>\n",
       "      <td>Chu</td>\n",
       "      <td>43.5983</td>\n",
       "      <td>73.7614</td>\n",
       "      <td>293.15</td>\n",
       "      <td>29</td>\n",
       "      <td>0</td>\n",
       "      <td>1.87</td>\n",
       "      <td>KZ</td>\n",
       "      <td>1661824061</td>\n",
       "    </tr>\n",
       "    <tr>\n",
       "      <th>581</th>\n",
       "      <td>Pindi Gheb</td>\n",
       "      <td>33.2402</td>\n",
       "      <td>72.2661</td>\n",
       "      <td>301.93</td>\n",
       "      <td>67</td>\n",
       "      <td>0</td>\n",
       "      <td>3.46</td>\n",
       "      <td>PK</td>\n",
       "      <td>1661824061</td>\n",
       "    </tr>\n",
       "    <tr>\n",
       "      <th>582</th>\n",
       "      <td>Port Blair</td>\n",
       "      <td>11.6667</td>\n",
       "      <td>92.7500</td>\n",
       "      <td>303.17</td>\n",
       "      <td>74</td>\n",
       "      <td>75</td>\n",
       "      <td>1.03</td>\n",
       "      <td>IN</td>\n",
       "      <td>1661823893</td>\n",
       "    </tr>\n",
       "  </tbody>\n",
       "</table>\n",
       "<p>576 rows × 9 columns</p>\n",
       "</div>"
      ],
      "text/plain": [
       "               City      Lat       Lng  Max Temp  Humidity  Cloudiness  \\\n",
       "0         Bathsheba  13.2167  -59.5167    301.49        83          75   \n",
       "1          Kalmunai   7.4167   81.8167    300.81        73          99   \n",
       "2    Ribeira Grande  38.5167  -28.7000    296.80        88          12   \n",
       "3     Mar del Plata -38.0023  -57.5575    283.08        69           0   \n",
       "4            Hobart -42.8794  147.3294    286.07        95          75   \n",
       "..              ...      ...       ...       ...       ...         ...   \n",
       "578         Chapais  49.7834  -74.8492    292.03        99          97   \n",
       "579           Muros  42.7762   -9.0603    290.84        90          64   \n",
       "580             Chu  43.5983   73.7614    293.15        29           0   \n",
       "581      Pindi Gheb  33.2402   72.2661    301.93        67           0   \n",
       "582      Port Blair  11.6667   92.7500    303.17        74          75   \n",
       "\n",
       "     Wind Speed Country        Date  \n",
       "0          6.69      BB  1661823863  \n",
       "1          1.75      LK  1661823863  \n",
       "2          0.74      PT  1661823863  \n",
       "3          6.26      AR  1661823613  \n",
       "4          4.63      AU  1661823679  \n",
       "..          ...     ...         ...  \n",
       "578        1.43      CA  1661824060  \n",
       "579        2.48      ES  1661824061  \n",
       "580        1.87      KZ  1661824061  \n",
       "581        3.46      PK  1661824061  \n",
       "582        1.03      IN  1661823893  \n",
       "\n",
       "[576 rows x 9 columns]"
      ]
     },
     "execution_count": 31,
     "metadata": {},
     "output_type": "execute_result"
    }
   ],
   "source": [
    "low_humidity_df= weather_df.loc[weather_df[\"Humidity\"]<100]\n",
    "low_humidity_df"
   ]
  },
  {
   "cell_type": "code",
   "execution_count": 32,
   "metadata": {},
   "outputs": [],
   "source": [
    "# Make a new DataFrame equal to the city data to drop all humidity outliers by index.\n",
    "# Passing \"inplace=False\" will make a copy of the city_data DataFrame, which we call \"clean_city_data\".\n"
   ]
  },
  {
   "cell_type": "code",
   "execution_count": null,
   "metadata": {},
   "outputs": [],
   "source": [
    "\n"
   ]
  },
  {
   "cell_type": "markdown",
   "metadata": {},
   "source": [
    "## Plotting the Data\n",
    "* Use proper labeling of the plots using plot titles (including date of analysis) and axes labels.\n",
    "* Save the plotted figures as .pngs."
   ]
  },
  {
   "cell_type": "markdown",
   "metadata": {},
   "source": [
    "## Latitude vs. Temperature Plot"
   ]
  },
  {
   "cell_type": "code",
   "execution_count": 85,
   "metadata": {},
   "outputs": [
    {
     "data": {
      "image/png": "[encoded data removed]",
      "text/plain": [
       "<Figure size 432x288 with 1 Axes>"
      ]
     },
     "metadata": {
      "needs_background": "light"
     },
     "output_type": "display_data"
    },
    {
     "data": {
      "text/plain": [
       "<Figure size 432x288 with 0 Axes>"
      ]
     },
     "metadata": {},
     "output_type": "display_data"
    }
   ],
   "source": [
    "weather_df.plot(kind = \"scatter\", x = \"Lat\", y = \"Max Temp\", grid=True)\n",
    "plt.title(\"Latitude vs. Temperature Plot\")\n",
    "plt.xlabel(\"Latitude\")\n",
    "plt.ylabel(\"Max Temp\")\n",
    "\n",
    "plt.show()\n",
    "plt.savefig(\"Latitude_vs_Temperature_Plot.png\")"
   ]
  },
  {
   "cell_type": "markdown",
   "metadata": {},
   "source": [
    "The Latitude vs. Temperature Plot is non linear. "
   ]
  },
  {
   "cell_type": "markdown",
   "metadata": {},
   "source": [
    "## Latitude vs. Humidity Plot"
   ]
  },
  {
   "cell_type": "code",
   "execution_count": 84,
   "metadata": {},
   "outputs": [
    {
     "data": {
      "image/png": "[encoded data removed]",
      "text/plain": [
       "<Figure size 432x288 with 1 Axes>"
      ]
     },
     "metadata": {
      "needs_background": "light"
     },
     "output_type": "display_data"
    },
    {
     "data": {
      "text/plain": [
       "<Figure size 432x288 with 0 Axes>"
      ]
     },
     "metadata": {},
     "output_type": "display_data"
    }
   ],
   "source": [
    "weather_df.plot(kind = \"scatter\", x = \"Lat\", y = \"Humidity\",grid=True)\n",
    "plt.title(\"Latitude vs. Humidity Plot\")\n",
    "plt.xlabel(\"Latitude\")\n",
    "plt.ylabel(\"Humidity\")\n",
    "plt.show()\n",
    "plt.savefig(\"Latitude_vs_Humidity_Plot.png\")"
   ]
  },
  {
   "cell_type": "markdown",
   "metadata": {},
   "source": [
    "The Latitude vs. Humidity Plot shows no relationship. "
   ]
  },
  {
   "cell_type": "markdown",
   "metadata": {},
   "source": [
    "## Latitude vs. Cloudiness Plot"
   ]
  },
  {
   "cell_type": "code",
   "execution_count": 83,
   "metadata": {},
   "outputs": [
    {
     "data": {
      "image/png": "[encoded data removed]",
      "text/plain": [
       "<Figure size 432x288 with 1 Axes>"
      ]
     },
     "metadata": {
      "needs_background": "light"
     },
     "output_type": "display_data"
    },
    {
     "data": {
      "text/plain": [
       "<Figure size 432x288 with 0 Axes>"
      ]
     },
     "metadata": {},
     "output_type": "display_data"
    }
   ],
   "source": [
    "weather_df.plot(kind = \"scatter\", x = \"Lat\", y = \"Cloudiness\",grid=True)\n",
    "plt.title(\"Latitude vs. Cloudiness Plot\")\n",
    "plt.xlabel(\"Latitude\")\n",
    "plt.ylabel(\"Cloudiness\")\n",
    "plt.show()\n",
    "plt.savefig(\"Latitude_vs_Cloudiness_Plot.png\")"
   ]
  },
  {
   "cell_type": "markdown",
   "metadata": {},
   "source": [
    "The Latitude vs. Cloudiness Plot has no relationship."
   ]
  },
  {
   "cell_type": "markdown",
   "metadata": {},
   "source": [
    "## Latitude vs. Wind Speed Plot"
   ]
  },
  {
   "cell_type": "code",
   "execution_count": 82,
   "metadata": {},
   "outputs": [
    {
     "data": {
      "image/png": "[encoded data removed]",
      "text/plain": [
       "<Figure size 432x288 with 1 Axes>"
      ]
     },
     "metadata": {
      "needs_background": "light"
     },
     "output_type": "display_data"
    },
    {
     "data": {
      "text/plain": [
       "<Figure size 432x288 with 0 Axes>"
      ]
     },
     "metadata": {},
     "output_type": "display_data"
    }
   ],
   "source": [
    "weather_df.plot(kind = \"scatter\", x = \"Lat\", y = \"Wind Speed\", grid=True)\n",
    "plt.title(\"Latitude vs. Wind Speed Plot\")\n",
    "plt.xlabel(\"Latitude\")\n",
    "plt.ylabel(\"Wind Speed\")\n",
    "plt.show()\n",
    "plt.savefig(\"Latitude_vs_Wind_Speed_Plot.png\")"
   ]
  },
  {
   "cell_type": "markdown",
   "metadata": {},
   "source": [
    "The Latitude vs. Wind Speed Plot has 4 outliers at the top of the plot."
   ]
  },
  {
   "cell_type": "markdown",
   "metadata": {},
   "source": [
    "## Linear Regression"
   ]
  },
  {
   "cell_type": "code",
   "execution_count": 37,
   "metadata": {},
   "outputs": [
    {
     "data": {
      "text/html": [
       "<div>\n",
       "<style scoped>\n",
       "    .dataframe tbody tr th:only-of-type {\n",
       "        vertical-align: middle;\n",
       "    }\n",
       "\n",
       "    .dataframe tbody tr th {\n",
       "        vertical-align: top;\n",
       "    }\n",
       "\n",
       "    .dataframe thead th {\n",
       "        text-align: right;\n",
       "    }\n",
       "</style>\n",
       "<table border=\"1\" class=\"dataframe\">\n",
       "  <thead>\n",
       "    <tr style=\"text-align: right;\">\n",
       "      <th></th>\n",
       "      <th>City</th>\n",
       "      <th>Lat</th>\n",
       "      <th>Lng</th>\n",
       "      <th>Max Temp</th>\n",
       "      <th>Humidity</th>\n",
       "      <th>Cloudiness</th>\n",
       "      <th>Wind Speed</th>\n",
       "      <th>Country</th>\n",
       "      <th>Date</th>\n",
       "    </tr>\n",
       "  </thead>\n",
       "  <tbody>\n",
       "    <tr>\n",
       "      <th>0</th>\n",
       "      <td>Bathsheba</td>\n",
       "      <td>13.2167</td>\n",
       "      <td>-59.5167</td>\n",
       "      <td>301.49</td>\n",
       "      <td>83</td>\n",
       "      <td>75</td>\n",
       "      <td>6.69</td>\n",
       "      <td>BB</td>\n",
       "      <td>1661823863</td>\n",
       "    </tr>\n",
       "    <tr>\n",
       "      <th>1</th>\n",
       "      <td>Kalmunai</td>\n",
       "      <td>7.4167</td>\n",
       "      <td>81.8167</td>\n",
       "      <td>300.81</td>\n",
       "      <td>73</td>\n",
       "      <td>99</td>\n",
       "      <td>1.75</td>\n",
       "      <td>LK</td>\n",
       "      <td>1661823863</td>\n",
       "    </tr>\n",
       "    <tr>\n",
       "      <th>2</th>\n",
       "      <td>Ribeira Grande</td>\n",
       "      <td>38.5167</td>\n",
       "      <td>-28.7000</td>\n",
       "      <td>296.80</td>\n",
       "      <td>88</td>\n",
       "      <td>12</td>\n",
       "      <td>0.74</td>\n",
       "      <td>PT</td>\n",
       "      <td>1661823863</td>\n",
       "    </tr>\n",
       "    <tr>\n",
       "      <th>8</th>\n",
       "      <td>Hyères</td>\n",
       "      <td>43.1167</td>\n",
       "      <td>6.1167</td>\n",
       "      <td>297.42</td>\n",
       "      <td>79</td>\n",
       "      <td>0</td>\n",
       "      <td>0.00</td>\n",
       "      <td>FR</td>\n",
       "      <td>1661823865</td>\n",
       "    </tr>\n",
       "    <tr>\n",
       "      <th>14</th>\n",
       "      <td>Kulhudhuffushi</td>\n",
       "      <td>6.6221</td>\n",
       "      <td>73.0700</td>\n",
       "      <td>300.48</td>\n",
       "      <td>80</td>\n",
       "      <td>99</td>\n",
       "      <td>8.38</td>\n",
       "      <td>MV</td>\n",
       "      <td>1661823867</td>\n",
       "    </tr>\n",
       "    <tr>\n",
       "      <th>...</th>\n",
       "      <td>...</td>\n",
       "      <td>...</td>\n",
       "      <td>...</td>\n",
       "      <td>...</td>\n",
       "      <td>...</td>\n",
       "      <td>...</td>\n",
       "      <td>...</td>\n",
       "      <td>...</td>\n",
       "      <td>...</td>\n",
       "    </tr>\n",
       "    <tr>\n",
       "      <th>578</th>\n",
       "      <td>Chapais</td>\n",
       "      <td>49.7834</td>\n",
       "      <td>-74.8492</td>\n",
       "      <td>292.03</td>\n",
       "      <td>99</td>\n",
       "      <td>97</td>\n",
       "      <td>1.43</td>\n",
       "      <td>CA</td>\n",
       "      <td>1661824060</td>\n",
       "    </tr>\n",
       "    <tr>\n",
       "      <th>579</th>\n",
       "      <td>Muros</td>\n",
       "      <td>42.7762</td>\n",
       "      <td>-9.0603</td>\n",
       "      <td>290.84</td>\n",
       "      <td>90</td>\n",
       "      <td>64</td>\n",
       "      <td>2.48</td>\n",
       "      <td>ES</td>\n",
       "      <td>1661824061</td>\n",
       "    </tr>\n",
       "    <tr>\n",
       "      <th>580</th>\n",
       "      <td>Chu</td>\n",
       "      <td>43.5983</td>\n",
       "      <td>73.7614</td>\n",
       "      <td>293.15</td>\n",
       "      <td>29</td>\n",
       "      <td>0</td>\n",
       "      <td>1.87</td>\n",
       "      <td>KZ</td>\n",
       "      <td>1661824061</td>\n",
       "    </tr>\n",
       "    <tr>\n",
       "      <th>581</th>\n",
       "      <td>Pindi Gheb</td>\n",
       "      <td>33.2402</td>\n",
       "      <td>72.2661</td>\n",
       "      <td>301.93</td>\n",
       "      <td>67</td>\n",
       "      <td>0</td>\n",
       "      <td>3.46</td>\n",
       "      <td>PK</td>\n",
       "      <td>1661824061</td>\n",
       "    </tr>\n",
       "    <tr>\n",
       "      <th>582</th>\n",
       "      <td>Port Blair</td>\n",
       "      <td>11.6667</td>\n",
       "      <td>92.7500</td>\n",
       "      <td>303.17</td>\n",
       "      <td>74</td>\n",
       "      <td>75</td>\n",
       "      <td>1.03</td>\n",
       "      <td>IN</td>\n",
       "      <td>1661823893</td>\n",
       "    </tr>\n",
       "  </tbody>\n",
       "</table>\n",
       "<p>406 rows × 9 columns</p>\n",
       "</div>"
      ],
      "text/plain": [
       "               City      Lat      Lng  Max Temp  Humidity  Cloudiness  \\\n",
       "0         Bathsheba  13.2167 -59.5167    301.49        83          75   \n",
       "1          Kalmunai   7.4167  81.8167    300.81        73          99   \n",
       "2    Ribeira Grande  38.5167 -28.7000    296.80        88          12   \n",
       "8            Hyères  43.1167   6.1167    297.42        79           0   \n",
       "14   Kulhudhuffushi   6.6221  73.0700    300.48        80          99   \n",
       "..              ...      ...      ...       ...       ...         ...   \n",
       "578         Chapais  49.7834 -74.8492    292.03        99          97   \n",
       "579           Muros  42.7762  -9.0603    290.84        90          64   \n",
       "580             Chu  43.5983  73.7614    293.15        29           0   \n",
       "581      Pindi Gheb  33.2402  72.2661    301.93        67           0   \n",
       "582      Port Blair  11.6667  92.7500    303.17        74          75   \n",
       "\n",
       "     Wind Speed Country        Date  \n",
       "0          6.69      BB  1661823863  \n",
       "1          1.75      LK  1661823863  \n",
       "2          0.74      PT  1661823863  \n",
       "8          0.00      FR  1661823865  \n",
       "14         8.38      MV  1661823867  \n",
       "..          ...     ...         ...  \n",
       "578        1.43      CA  1661824060  \n",
       "579        2.48      ES  1661824061  \n",
       "580        1.87      KZ  1661824061  \n",
       "581        3.46      PK  1661824061  \n",
       "582        1.03      IN  1661823893  \n",
       "\n",
       "[406 rows x 9 columns]"
      ]
     },
     "execution_count": 37,
     "metadata": {},
     "output_type": "execute_result"
    }
   ],
   "source": [
    "north_hemisphere_df = weather_df.loc[weather_df[\"Lat\"]>= 0 ]\n",
    "north_hemisphere_df\n"
   ]
  },
  {
   "cell_type": "code",
   "execution_count": 38,
   "metadata": {},
   "outputs": [
    {
     "data": {
      "text/html": [
       "<div>\n",
       "<style scoped>\n",
       "    .dataframe tbody tr th:only-of-type {\n",
       "        vertical-align: middle;\n",
       "    }\n",
       "\n",
       "    .dataframe tbody tr th {\n",
       "        vertical-align: top;\n",
       "    }\n",
       "\n",
       "    .dataframe thead th {\n",
       "        text-align: right;\n",
       "    }\n",
       "</style>\n",
       "<table border=\"1\" class=\"dataframe\">\n",
       "  <thead>\n",
       "    <tr style=\"text-align: right;\">\n",
       "      <th></th>\n",
       "      <th>City</th>\n",
       "      <th>Lat</th>\n",
       "      <th>Lng</th>\n",
       "      <th>Max Temp</th>\n",
       "      <th>Humidity</th>\n",
       "      <th>Cloudiness</th>\n",
       "      <th>Wind Speed</th>\n",
       "      <th>Country</th>\n",
       "      <th>Date</th>\n",
       "    </tr>\n",
       "  </thead>\n",
       "  <tbody>\n",
       "    <tr>\n",
       "      <th>3</th>\n",
       "      <td>Mar del Plata</td>\n",
       "      <td>-38.0023</td>\n",
       "      <td>-57.5575</td>\n",
       "      <td>283.08</td>\n",
       "      <td>69</td>\n",
       "      <td>0</td>\n",
       "      <td>6.26</td>\n",
       "      <td>AR</td>\n",
       "      <td>1661823613</td>\n",
       "    </tr>\n",
       "    <tr>\n",
       "      <th>4</th>\n",
       "      <td>Hobart</td>\n",
       "      <td>-42.8794</td>\n",
       "      <td>147.3294</td>\n",
       "      <td>286.07</td>\n",
       "      <td>95</td>\n",
       "      <td>75</td>\n",
       "      <td>4.63</td>\n",
       "      <td>AU</td>\n",
       "      <td>1661823679</td>\n",
       "    </tr>\n",
       "    <tr>\n",
       "      <th>5</th>\n",
       "      <td>Mataura</td>\n",
       "      <td>-46.1927</td>\n",
       "      <td>168.8643</td>\n",
       "      <td>287.30</td>\n",
       "      <td>50</td>\n",
       "      <td>19</td>\n",
       "      <td>2.02</td>\n",
       "      <td>NZ</td>\n",
       "      <td>1661823864</td>\n",
       "    </tr>\n",
       "    <tr>\n",
       "      <th>6</th>\n",
       "      <td>Rikitea</td>\n",
       "      <td>-23.1203</td>\n",
       "      <td>-134.9692</td>\n",
       "      <td>296.28</td>\n",
       "      <td>83</td>\n",
       "      <td>9</td>\n",
       "      <td>5.99</td>\n",
       "      <td>PF</td>\n",
       "      <td>1661823865</td>\n",
       "    </tr>\n",
       "    <tr>\n",
       "      <th>7</th>\n",
       "      <td>Airai</td>\n",
       "      <td>-8.9266</td>\n",
       "      <td>125.4092</td>\n",
       "      <td>297.66</td>\n",
       "      <td>43</td>\n",
       "      <td>8</td>\n",
       "      <td>2.13</td>\n",
       "      <td>TL</td>\n",
       "      <td>1661823865</td>\n",
       "    </tr>\n",
       "    <tr>\n",
       "      <th>...</th>\n",
       "      <td>...</td>\n",
       "      <td>...</td>\n",
       "      <td>...</td>\n",
       "      <td>...</td>\n",
       "      <td>...</td>\n",
       "      <td>...</td>\n",
       "      <td>...</td>\n",
       "      <td>...</td>\n",
       "      <td>...</td>\n",
       "    </tr>\n",
       "    <tr>\n",
       "      <th>567</th>\n",
       "      <td>Malangali</td>\n",
       "      <td>-8.5667</td>\n",
       "      <td>34.8500</td>\n",
       "      <td>286.96</td>\n",
       "      <td>76</td>\n",
       "      <td>0</td>\n",
       "      <td>3.64</td>\n",
       "      <td>TZ</td>\n",
       "      <td>1661824057</td>\n",
       "    </tr>\n",
       "    <tr>\n",
       "      <th>568</th>\n",
       "      <td>Pangai</td>\n",
       "      <td>-19.8000</td>\n",
       "      <td>-174.3500</td>\n",
       "      <td>299.21</td>\n",
       "      <td>65</td>\n",
       "      <td>40</td>\n",
       "      <td>2.57</td>\n",
       "      <td>TO</td>\n",
       "      <td>1661824057</td>\n",
       "    </tr>\n",
       "    <tr>\n",
       "      <th>569</th>\n",
       "      <td>Fuerte Olimpo</td>\n",
       "      <td>-21.0415</td>\n",
       "      <td>-57.8738</td>\n",
       "      <td>291.88</td>\n",
       "      <td>34</td>\n",
       "      <td>100</td>\n",
       "      <td>3.86</td>\n",
       "      <td>PY</td>\n",
       "      <td>1661824058</td>\n",
       "    </tr>\n",
       "    <tr>\n",
       "      <th>572</th>\n",
       "      <td>Pemba</td>\n",
       "      <td>-12.9740</td>\n",
       "      <td>40.5178</td>\n",
       "      <td>295.54</td>\n",
       "      <td>83</td>\n",
       "      <td>20</td>\n",
       "      <td>2.06</td>\n",
       "      <td>MZ</td>\n",
       "      <td>1661824058</td>\n",
       "    </tr>\n",
       "    <tr>\n",
       "      <th>575</th>\n",
       "      <td>Mount Isa</td>\n",
       "      <td>-20.7333</td>\n",
       "      <td>139.5000</td>\n",
       "      <td>295.02</td>\n",
       "      <td>68</td>\n",
       "      <td>100</td>\n",
       "      <td>5.14</td>\n",
       "      <td>AU</td>\n",
       "      <td>1661824059</td>\n",
       "    </tr>\n",
       "  </tbody>\n",
       "</table>\n",
       "<p>177 rows × 9 columns</p>\n",
       "</div>"
      ],
      "text/plain": [
       "              City      Lat       Lng  Max Temp  Humidity  Cloudiness  \\\n",
       "3    Mar del Plata -38.0023  -57.5575    283.08        69           0   \n",
       "4           Hobart -42.8794  147.3294    286.07        95          75   \n",
       "5          Mataura -46.1927  168.8643    287.30        50          19   \n",
       "6          Rikitea -23.1203 -134.9692    296.28        83           9   \n",
       "7            Airai  -8.9266  125.4092    297.66        43           8   \n",
       "..             ...      ...       ...       ...       ...         ...   \n",
       "567      Malangali  -8.5667   34.8500    286.96        76           0   \n",
       "568         Pangai -19.8000 -174.3500    299.21        65          40   \n",
       "569  Fuerte Olimpo -21.0415  -57.8738    291.88        34         100   \n",
       "572          Pemba -12.9740   40.5178    295.54        83          20   \n",
       "575      Mount Isa -20.7333  139.5000    295.02        68         100   \n",
       "\n",
       "     Wind Speed Country        Date  \n",
       "3          6.26      AR  1661823613  \n",
       "4          4.63      AU  1661823679  \n",
       "5          2.02      NZ  1661823864  \n",
       "6          5.99      PF  1661823865  \n",
       "7          2.13      TL  1661823865  \n",
       "..          ...     ...         ...  \n",
       "567        3.64      TZ  1661824057  \n",
       "568        2.57      TO  1661824057  \n",
       "569        3.86      PY  1661824058  \n",
       "572        2.06      MZ  1661824058  \n",
       "575        5.14      AU  1661824059  \n",
       "\n",
       "[177 rows x 9 columns]"
      ]
     },
     "execution_count": 38,
     "metadata": {},
     "output_type": "execute_result"
    }
   ],
   "source": [
    "south_hemisphere_df = weather_df.loc[weather_df[\"Lat\"] < 0 ]\n",
    "south_hemisphere_df"
   ]
  },
  {
   "cell_type": "code",
   "execution_count": 41,
   "metadata": {},
   "outputs": [],
   "source": [
    "slope_north = []\n",
    "slope_south = []\n",
    "intercept_north = []\n",
    "intercept_south = []\n",
    "r_value_north = []\n",
    "r_value_south = []\n",
    "regression_north = []\n",
    "regression_south = []\n",
    "column_name = (\"Max Temp\", \"Humidity\", \"Cloudiness\", \"Wind Speed\")\n",
    "for names in column_name:\n",
    "    #looping through north hemisphere\n",
    "    x_axis_north = north_hemisphere_df['Lat']\n",
    "    y_axis_north = north_hemisphere_df[names]\n",
    "    (slope, intercept, rvalue, pvalue, stderr) = linregress(x_axis_north, y_axis_north)\n",
    "    regression_north_loop = x_axis_north * slope + intercept\n",
    "    r_sq_n = rvalue**2\n",
    "    slope_north.append(slope)\n",
    "    intercept_north.append(intercept)\n",
    "    r_value_north.append(r_sq_n)\n",
    "    regression_north.append(regression_north_loop)\n",
    "    \n",
    "for names in column_name:\n",
    "    #looping through south hemisphere\n",
    "    x_axis_south = south_hemisphere_df['Lat']\n",
    "    y_axis_south = south_hemisphere_df[names]\n",
    "    (slope, intercept, rvalue, pvalue, stderr) = linregress(x_axis_south, y_axis_south)\n",
    "    regression_south_loop = x_axis_south * slope + intercept\n",
    "    r_sq_s = rvalue**2\n",
    "    slope_south.append(slope)\n",
    "    intercept_south.append(intercept)\n",
    "    r_value_south.append(r_sq_s)\n",
    "    regression_south.append(regression_south_loop)"
   ]
  },
  {
   "cell_type": "code",
   "execution_count": 51,
   "metadata": {},
   "outputs": [],
   "source": [
    "hemisphere_north_df = pd.DataFrame(\n",
    "    {\"North Slope\": slope_north,\n",
    "    \"North Intercepts\": intercept_north,\n",
    "    \"North R Squared\": r_value_north,\n",
    "    \"column_name\":['Max Temp','Humidity','Cloudiness','Wind Speed']\n",
    "     })\n",
    "\n",
    "hemisphere_south_df = pd.DataFrame(\n",
    "    {\"South Slope\": slope_south,\n",
    "    \"South Intercepts\": intercept_south,\n",
    "    \"South R Squared\": r_value_south,\n",
    "    \"column_name\":['Max Temp','Humidity','Cloudiness','Wind Speed']\n",
    "     })\n"
   ]
  },
  {
   "cell_type": "code",
   "execution_count": 52,
   "metadata": {},
   "outputs": [
    {
     "data": {
      "text/html": [
       "<div>\n",
       "<style scoped>\n",
       "    .dataframe tbody tr th:only-of-type {\n",
       "        vertical-align: middle;\n",
       "    }\n",
       "\n",
       "    .dataframe tbody tr th {\n",
       "        vertical-align: top;\n",
       "    }\n",
       "\n",
       "    .dataframe thead th {\n",
       "        text-align: right;\n",
       "    }\n",
       "</style>\n",
       "<table border=\"1\" class=\"dataframe\">\n",
       "  <thead>\n",
       "    <tr style=\"text-align: right;\">\n",
       "      <th></th>\n",
       "      <th>North Slope</th>\n",
       "      <th>North Intercepts</th>\n",
       "      <th>North R Squared</th>\n",
       "    </tr>\n",
       "    <tr>\n",
       "      <th>column_name</th>\n",
       "      <th></th>\n",
       "      <th></th>\n",
       "      <th></th>\n",
       "    </tr>\n",
       "  </thead>\n",
       "  <tbody>\n",
       "    <tr>\n",
       "      <th>Max Temp</th>\n",
       "      <td>-0.301543</td>\n",
       "      <td>305.350964</td>\n",
       "      <td>0.566772</td>\n",
       "    </tr>\n",
       "    <tr>\n",
       "      <th>Humidity</th>\n",
       "      <td>-0.052578</td>\n",
       "      <td>73.488178</td>\n",
       "      <td>0.002377</td>\n",
       "    </tr>\n",
       "    <tr>\n",
       "      <th>Cloudiness</th>\n",
       "      <td>0.205249</td>\n",
       "      <td>42.764041</td>\n",
       "      <td>0.009561</td>\n",
       "    </tr>\n",
       "    <tr>\n",
       "      <th>Wind Speed</th>\n",
       "      <td>0.026853</td>\n",
       "      <td>2.298740</td>\n",
       "      <td>0.051016</td>\n",
       "    </tr>\n",
       "  </tbody>\n",
       "</table>\n",
       "</div>"
      ],
      "text/plain": [
       "             North Slope  North Intercepts  North R Squared\n",
       "column_name                                                \n",
       "Max Temp       -0.301543        305.350964         0.566772\n",
       "Humidity       -0.052578         73.488178         0.002377\n",
       "Cloudiness      0.205249         42.764041         0.009561\n",
       "Wind Speed      0.026853          2.298740         0.051016"
      ]
     },
     "execution_count": 52,
     "metadata": {},
     "output_type": "execute_result"
    }
   ],
   "source": [
    "hemisphere_north_df.set_index('column_name')"
   ]
  },
  {
   "cell_type": "code",
   "execution_count": 53,
   "metadata": {},
   "outputs": [
    {
     "data": {
      "text/html": [
       "<div>\n",
       "<style scoped>\n",
       "    .dataframe tbody tr th:only-of-type {\n",
       "        vertical-align: middle;\n",
       "    }\n",
       "\n",
       "    .dataframe tbody tr th {\n",
       "        vertical-align: top;\n",
       "    }\n",
       "\n",
       "    .dataframe thead th {\n",
       "        text-align: right;\n",
       "    }\n",
       "</style>\n",
       "<table border=\"1\" class=\"dataframe\">\n",
       "  <thead>\n",
       "    <tr style=\"text-align: right;\">\n",
       "      <th></th>\n",
       "      <th>South Slope</th>\n",
       "      <th>South Intercepts</th>\n",
       "      <th>South R Squared</th>\n",
       "    </tr>\n",
       "    <tr>\n",
       "      <th>column_name</th>\n",
       "      <th></th>\n",
       "      <th></th>\n",
       "      <th></th>\n",
       "    </tr>\n",
       "  </thead>\n",
       "  <tbody>\n",
       "    <tr>\n",
       "      <th>Max Temp</th>\n",
       "      <td>0.384466</td>\n",
       "      <td>299.407430</td>\n",
       "      <td>0.570854</td>\n",
       "    </tr>\n",
       "    <tr>\n",
       "      <th>Humidity</th>\n",
       "      <td>0.230399</td>\n",
       "      <td>73.317940</td>\n",
       "      <td>0.023993</td>\n",
       "    </tr>\n",
       "    <tr>\n",
       "      <th>Cloudiness</th>\n",
       "      <td>0.222182</td>\n",
       "      <td>54.322360</td>\n",
       "      <td>0.005602</td>\n",
       "    </tr>\n",
       "    <tr>\n",
       "      <th>Wind Speed</th>\n",
       "      <td>-0.013721</td>\n",
       "      <td>3.351038</td>\n",
       "      <td>0.005289</td>\n",
       "    </tr>\n",
       "  </tbody>\n",
       "</table>\n",
       "</div>"
      ],
      "text/plain": [
       "             South Slope  South Intercepts  South R Squared\n",
       "column_name                                                \n",
       "Max Temp        0.384466        299.407430         0.570854\n",
       "Humidity        0.230399         73.317940         0.023993\n",
       "Cloudiness      0.222182         54.322360         0.005602\n",
       "Wind Speed     -0.013721          3.351038         0.005289"
      ]
     },
     "execution_count": 53,
     "metadata": {},
     "output_type": "execute_result"
    }
   ],
   "source": [
    "hemisphere_south_df.set_index('column_name')"
   ]
  },
  {
   "cell_type": "markdown",
   "metadata": {},
   "source": [
    "####  Northern Hemisphere - Max Temp vs. Latitude Linear Regression"
   ]
  },
  {
   "cell_type": "code",
   "execution_count": 69,
   "metadata": {},
   "outputs": [
    {
     "name": "stdout",
     "output_type": "stream",
     "text": [
      "The r-value of Northern Hemisphere - Max Temp vs. Latitude is 0.5667719105197434\n"
     ]
    },
    {
     "data": {
      "image/png": "[encoded data removed]",
      "text/plain": [
       "<Figure size 432x288 with 1 Axes>"
      ]
     },
     "metadata": {
      "needs_background": "light"
     },
     "output_type": "display_data"
    },
    {
     "data": {
      "text/plain": [
       "<Figure size 432x288 with 0 Axes>"
      ]
     },
     "metadata": {},
     "output_type": "display_data"
    }
   ],
   "source": [
    "north_hemisphere_df.plot.scatter(x = \"Lat\", y = \"Max Temp\")\n",
    "\n",
    "\n",
    "print(f'The r-value of Northern Hemisphere - Max Temp vs. Latitude is {r_value_north[0]}')\n",
    "\n",
    "plt.xlabel(\"Latitude\")\n",
    "plt.ylabel(\"Max Temperature °F\")\n",
    "plt.title(\"Northern Hemisphere - Max Temp vs. Latitude Linear Regression\")\n",
    "line_equation = \"y = \" + str(round(slope_north[0], 2)) + \"x + \" + str(round(intercept_north[0], 2))\n",
    "plt.annotate(line_equation, (10,50), color = \"red\")\n",
    "plt.plot(x_axis_north, regression_north[0], \"red\")\n",
    "plt.tight_layout()\n",
    "plt.show()\n",
    "plt.savefig('Northern_Hemisphere_Latitude_vs_Temperature_Linear_Regression.png')"
   ]
  },
  {
   "cell_type": "markdown",
   "metadata": {},
   "source": [
    "The Northern Hemisphere Max Temp vs. Latitude Linear Regression shows a negative coorelation. "
   ]
  },
  {
   "cell_type": "markdown",
   "metadata": {},
   "source": [
    "####  Southern Hemisphere - Max Temp vs. Latitude Linear Regression"
   ]
  },
  {
   "cell_type": "code",
   "execution_count": 72,
   "metadata": {},
   "outputs": [
    {
     "name": "stdout",
     "output_type": "stream",
     "text": [
      "The r-value of Southern Hemisphere - Max Temp vs. Latitude is 0.5708537955542231\n"
     ]
    },
    {
     "data": {
      "image/png": "[encoded data removed]",
      "text/plain": [
       "<Figure size 432x288 with 1 Axes>"
      ]
     },
     "metadata": {
      "needs_background": "light"
     },
     "output_type": "display_data"
    },
    {
     "data": {
      "text/plain": [
       "<Figure size 432x288 with 0 Axes>"
      ]
     },
     "metadata": {},
     "output_type": "display_data"
    }
   ],
   "source": [
    "south_hemisphere_df.plot.scatter(x = \"Lat\", y = \"Max Temp\")\n",
    "\n",
    "print(f'The r-value of Southern Hemisphere - Max Temp vs. Latitude is {r_value_south[0]}')\n",
    "\n",
    "plt.xlabel(\"Latitude\")\n",
    "plt.ylabel(\"Max Temperature °F\")\n",
    "plt.title(\"Southern Hemisphere - Max Temp vs. Latitude Linear Regression\")\n",
    "#converting slope into a string and rounding its value to 2 decimal places to make it easier to read on the graph\n",
    "line_equation = \"y = \" + str(round(slope_south[0], 2)) + \"x + \" + str(round(intercept_south[0], 2))\n",
    "plt.annotate(line_equation, (-50,70), color = \"red\")\n",
    "plt.plot(x_axis_south, regression_south[0], \"red\")\n",
    "plt.tight_layout()\n",
    "plt.show()\n",
    "plt.savefig('Southern_Hemisphere_Latitude_vs_Temperature_Linear_Regression.png')"
   ]
  },
  {
   "cell_type": "markdown",
   "metadata": {},
   "source": [
    "The Southern Hemisphere Max Temp vs. Latitude Linear Regression shows a positive coorelation. "
   ]
  },
  {
   "cell_type": "markdown",
   "metadata": {},
   "source": [
    "####  Northern Hemisphere - Humidity (%) vs. Latitude Linear Regression"
   ]
  },
  {
   "cell_type": "code",
   "execution_count": 66,
   "metadata": {},
   "outputs": [
    {
     "name": "stdout",
     "output_type": "stream",
     "text": [
      "The r-value of Northern Hemisphere - Humidity vs. Latitude is 0.002376780887675337\n"
     ]
    },
    {
     "data": {
      "image/png": "[encoded data removed]",
      "text/plain": [
       "<Figure size 432x288 with 1 Axes>"
      ]
     },
     "metadata": {
      "needs_background": "light"
     },
     "output_type": "display_data"
    },
    {
     "data": {
      "text/plain": [
       "<Figure size 432x288 with 0 Axes>"
      ]
     },
     "metadata": {},
     "output_type": "display_data"
    }
   ],
   "source": [
    "north_hemisphere_df.plot.scatter(x = \"Lat\", y = \"Humidity\")\n",
    "\n",
    "#prints the r-value of this line\n",
    "print(f'The r-value of Northern Hemisphere - Humidity vs. Latitude is {r_value_north[1]}')\n",
    "\n",
    "plt.xlabel(\"Latitude\")\n",
    "plt.ylabel(\"Humidity\")\n",
    "plt.title(\"Northern Hemisphere - Humidity vs. Latitude Linear Regression\")\n",
    "line_equation = \"y = \" + str(round(slope_north[1], 2)) + \"x + \" + str(round(intercept_north[1], 2))\n",
    "plt.annotate(line_equation, (5,20), color = \"red\")\n",
    "plt.plot(x_axis_north, regression_north[1], \"red\")\n",
    "plt.tight_layout()\n",
    "plt.show()\n",
    "plt.savefig('North_Humidity_vs_Latitude_Linear_Regression.png')"
   ]
  },
  {
   "cell_type": "markdown",
   "metadata": {},
   "source": [
    "The Southern Hemisphere Cloudiness vs. Latitude Linear Regression shows no coorelation. "
   ]
  },
  {
   "cell_type": "markdown",
   "metadata": {},
   "source": [
    "####  Southern Hemisphere - Humidity (%) vs. Latitude Linear Regression"
   ]
  },
  {
   "cell_type": "code",
   "execution_count": 73,
   "metadata": {},
   "outputs": [
    {
     "name": "stdout",
     "output_type": "stream",
     "text": [
      "The r-value of Southern Hemisphere - Humidity vs. Latitude is 0.02399314005809527\n"
     ]
    },
    {
     "data": {
      "image/png": "[encoded data removed]",
      "text/plain": [
       "<Figure size 432x288 with 1 Axes>"
      ]
     },
     "metadata": {
      "needs_background": "light"
     },
     "output_type": "display_data"
    },
    {
     "data": {
      "text/plain": [
       "<Figure size 432x288 with 0 Axes>"
      ]
     },
     "metadata": {},
     "output_type": "display_data"
    }
   ],
   "source": [
    "south_hemisphere_df.plot.scatter(x = \"Lat\", y = \"Humidity\")\n",
    "\n",
    "\n",
    "print(f'The r-value of Southern Hemisphere - Humidity vs. Latitude is {r_value_south[1]}')\n",
    "\n",
    "plt.xlabel(\"Latitude\")\n",
    "plt.ylabel(\"Humidity\")\n",
    "plt.title(\"Southern Hemisphere - Humidity vs. Latitude Linear Regression\")\n",
    "line_equation = \"y = \" + str(round(slope_south[1], 2)) + \"x + \" + str(round(intercept_south[1], 2))\n",
    "plt.annotate(line_equation, (-50,20), color = \"red\")\n",
    "plt.plot(x_axis_south, regression_south[1], \"red\")\n",
    "plt.tight_layout()\n",
    "plt.show()\n",
    "plt.savefig('South_Humidity_vs_Latitude_Linear_Regression.png')"
   ]
  },
  {
   "cell_type": "markdown",
   "metadata": {},
   "source": [
    "The Southern Hemisphere Humidity vs. Latitude Linear Regression shows a slight positive correlation. "
   ]
  },
  {
   "cell_type": "markdown",
   "metadata": {},
   "source": [
    "####  Northern Hemisphere - Cloudiness (%) vs. Latitude Linear Regression"
   ]
  },
  {
   "cell_type": "code",
   "execution_count": 76,
   "metadata": {},
   "outputs": [
    {
     "name": "stdout",
     "output_type": "stream",
     "text": [
      "The r-value of Northern Hemisphere - Cloudiness vs. Latitude is 0.009561386953880816\n"
     ]
    },
    {
     "data": {
      "image/png": "[encoded data removed]",
      "text/plain": [
       "<Figure size 432x288 with 1 Axes>"
      ]
     },
     "metadata": {
      "needs_background": "light"
     },
     "output_type": "display_data"
    },
    {
     "data": {
      "text/plain": [
       "<Figure size 432x288 with 0 Axes>"
      ]
     },
     "metadata": {},
     "output_type": "display_data"
    }
   ],
   "source": [
    "north_hemisphere_df.plot.scatter(x = \"Lat\", y = \"Cloudiness\", )\n",
    "\n",
    "print(f'The r-value of Northern Hemisphere - Cloudiness vs. Latitude is {r_value_north[2]}')\n",
    "\n",
    "plt.xlabel(\"Latitude\")\n",
    "plt.ylabel(\"Cloudiness\")\n",
    "plt.title(\"Northern Hemisphere - Cloudiness (%) vs. Latitude Linear Regression\")\n",
    "line_equation = \"y = \" + str(round(slope_north[2], 2)) + \"x + \" + str(round(intercept_north[2], 2))\n",
    "plt.annotate(line_equation, (55,55), color = \"red\")\n",
    "plt.plot(x_axis_north, regression_north[2], \"red\")\n",
    "plt.tight_layout()\n",
    "plt.show()\n",
    "plt.savefig('Northern_Cloudiness_vs_Latitude_Linear_Regression.png')"
   ]
  },
  {
   "cell_type": "markdown",
   "metadata": {},
   "source": [
    "The Northern Hemisphere Cloudiness vs. Latitude Linear Regression shows a slight positive correlation. "
   ]
  },
  {
   "cell_type": "markdown",
   "metadata": {},
   "source": [
    "####  Southern Hemisphere - Cloudiness (%) vs. Latitude Linear Regression"
   ]
  },
  {
   "cell_type": "code",
   "execution_count": 77,
   "metadata": {},
   "outputs": [
    {
     "name": "stdout",
     "output_type": "stream",
     "text": [
      "The r-value of Southern Hemisphere - Cloudiness vs. Latitude is 0.005601828723170394\n"
     ]
    },
    {
     "data": {
      "image/png": "[encoded data removed]",
      "text/plain": [
       "<Figure size 432x288 with 1 Axes>"
      ]
     },
     "metadata": {
      "needs_background": "light"
     },
     "output_type": "display_data"
    },
    {
     "data": {
      "text/plain": [
       "<Figure size 432x288 with 0 Axes>"
      ]
     },
     "metadata": {},
     "output_type": "display_data"
    }
   ],
   "source": [
    "south_hemisphere_df.plot.scatter(x = \"Lat\", y = \"Cloudiness\")\n",
    "\n",
    "#prints the r-value of this line\n",
    "print(f'The r-value of Southern Hemisphere - Cloudiness vs. Latitude is {r_value_south[2]}')\n",
    "\n",
    "plt.xlabel(\"Latitude\")\n",
    "plt.ylabel(\"Cloudiness (%)\")\n",
    "plt.title(\"Southern Hemisphere - Cloudiness (%) vs. Latitude Linear Regression\")\n",
    "line_equation = \"y = \" + str(round(slope_south[2], 2)) + \"x + \" + str(round(intercept_south[2], 2))\n",
    "plt.annotate(line_equation, (-50,25), color = \"red\")\n",
    "plt.plot(x_axis_south, regression_south[2], \"red\")\n",
    "plt.tight_layout()\n",
    "plt.show()\n",
    "plt.savefig('Southern_Cloudiness_vs_Latitude_Linear_Regression.png')"
   ]
  },
  {
   "cell_type": "markdown",
   "metadata": {},
   "source": [
    "The Southern Hemisphere Cloudiness vs. Latitude Linear Regression shows a slight positive correlation. "
   ]
  },
  {
   "cell_type": "markdown",
   "metadata": {},
   "source": [
    "####  Northern Hemisphere - Wind Speed (mph) vs. Latitude Linear Regression"
   ]
  },
  {
   "cell_type": "code",
   "execution_count": 79,
   "metadata": {
    "scrolled": true
   },
   "outputs": [
    {
     "name": "stdout",
     "output_type": "stream",
     "text": [
      "The r-value of Northern Hemisphere - Wind Speed vs. Latitude is 0.05101607729868074\n"
     ]
    },
    {
     "data": {
      "image/png": "[encoded data removed]",
      "text/plain": [
       "<Figure size 432x288 with 1 Axes>"
      ]
     },
     "metadata": {
      "needs_background": "light"
     },
     "output_type": "display_data"
    },
    {
     "data": {
      "text/plain": [
       "<Figure size 432x288 with 0 Axes>"
      ]
     },
     "metadata": {},
     "output_type": "display_data"
    }
   ],
   "source": [
    "north_hemisphere_df.plot.scatter(x = \"Lat\", y = \"Wind Speed\")\n",
    "\n",
    "\n",
    "print(f'The r-value of Northern Hemisphere - Wind Speed vs. Latitude is {r_value_north[3]}')\n",
    "\n",
    "plt.xlabel(\"Latitude\")\n",
    "plt.ylabel(\"Wind Speed (mph)\")\n",
    "plt.title(\"Northern Hemisphere - Wind Speed vs. Latitude Linear Regression\")\n",
    "line_equation = \"y = \" + str(round(slope_north[3], 2)) + \"x + \" + str(round(intercept_north[3], 2))\n",
    "plt.annotate(line_equation, (50,25), color = \"red\")\n",
    "plt.plot(x_axis_north, regression_north[3], \"red\")\n",
    "plt.tight_layout()\n",
    "plt.show()\n",
    "plt.savefig('Northern_Wind_Speed_vs_Latitude_Linear_Regression.png')"
   ]
  },
  {
   "cell_type": "markdown",
   "metadata": {},
   "source": [
    "The Northern Hemisphere - Wind Speed (mph) vs. Latitude Linear Regression shows no coorelation. "
   ]
  },
  {
   "cell_type": "markdown",
   "metadata": {},
   "source": [
    "####  Southern Hemisphere - Wind Speed (mph) vs. Latitude Linear Regression"
   ]
  },
  {
   "cell_type": "code",
   "execution_count": 81,
   "metadata": {},
   "outputs": [
    {
     "name": "stdout",
     "output_type": "stream",
     "text": [
      "The r-value of Southern Hemisphere - Wind Speed vs. Latitude is 0.005289207052970684\n"
     ]
    },
    {
     "data": {
      "image/png": "[encoded data removed]",
      "text/plain": [
       "<Figure size 432x288 with 1 Axes>"
      ]
     },
     "metadata": {
      "needs_background": "light"
     },
     "output_type": "display_data"
    },
    {
     "data": {
      "text/plain": [
       "<Figure size 432x288 with 0 Axes>"
      ]
     },
     "metadata": {},
     "output_type": "display_data"
    }
   ],
   "source": [
    "south_hemisphere_df.plot.scatter(x = \"Lat\", y = \"Wind Speed\")\n",
    "\n",
    "print(f'The r-value of Southern Hemisphere - Wind Speed vs. Latitude is {r_value_south[3]}')\n",
    "\n",
    "plt.xlabel(\"Latitude\")\n",
    "plt.ylabel(\"Wind Speed (mph)\")\n",
    "plt.title(\"Southern Hemisphere - Wind Speed vs. Latitude Linear Regression\")\n",
    "line_equation = \"y = \" + str(round(slope_south[3], 2)) + \"x + \" + str(round(intercept_south[3], 2))\n",
    "plt.annotate(line_equation, (-50,23), color = \"red\")\n",
    "plt.plot(x_axis_south, regression_south[3], \"red\")\n",
    "plt.tight_layout()\n",
    "plt.show()\n",
    "plt.savefig('Southern_Wind_Speed_vs_Latitude_Linear_Regression.png')\n"
   ]
  },
  {
   "cell_type": "markdown",
   "metadata": {},
   "source": [
    "The Southern Hemisphere Wind Speed (mph) vs. Latitude Linear Regression shows no coorelation. "
   ]
  }
 ],
 "metadata": {
  "anaconda-cloud": {},
  "kernel_info": {
   "name": "python3"
  },
  "kernelspec": {
   "display_name": "Python 3 (ipykernel)",
   "language": "python",
   "name": "python3"
  },
  "language_info": {
   "codemirror_mode": {
    "name": "ipython",
    "version": 3
   },
   "file_extension": ".py",
   "mimetype": "text/x-python",
   "name": "python",
   "nbconvert_exporter": "python",
   "pygments_lexer": "ipython3",
   "version": "3.9.12"
  },
  "latex_envs": {
   "LaTeX_envs_menu_present": true,
   "autoclose": false,
   "autocomplete": true,
   "bibliofile": "biblio.bib",
   "cite_by": "apalike",
   "current_citInitial": 1,
   "eqLabelWithNumbers": true,
   "eqNumInitial": 1,
   "hotkeys": {
    "equation": "Ctrl-E",
    "itemize": "Ctrl-I"
   },
   "labels_anchors": false,
   "latex_user_defs": false,
   "report_style_numbering": false,
   "user_envs_cfg": false
  },
  "nteract": {
   "version": "0.12.3"
  }
 },
 "nbformat": 4,
 "nbformat_minor": 2
}
